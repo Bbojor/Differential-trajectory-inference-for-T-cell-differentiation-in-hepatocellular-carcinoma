{
 "cells": [
  {
   "cell_type": "code",
   "execution_count": null,
   "id": "d7898f90-31d6-4220-ad0c-4931a2a8ed79",
   "metadata": {},
   "outputs": [],
   "source": [
    "import anndata\n",
    "import pandas as pd\n",
    "import scanpy as scp\n",
    "import seaborn as sns\n",
    "import matplotlib.pyplot as plt\n",
    "from matplotlib.colors import Normalize\n",
    "from matplotlib.patches import Rectangle\n",
    "\n",
    "import numpy as np\n",
    "from sklearn.metrics.pairwise import pairwise_distances\n",
    "from sklearn.metrics import accuracy_score, confusion_matrix, ConfusionMatrixDisplay\n",
    "\n",
    "from matplotlib import colors\n",
    "\n",
    "%load_ext jupyter_black\n",
    "\n",
    "protein_map = pd.read_csv(\n",
    "    \"2022_11_16_Protein-Gene mapping_markers for data integration.csv\"\n",
    ")\n",
    "\n",
    "# remove non-relevant antigens\n",
    "protein_map = protein_map[protein_map[\"Comment\"].isnull()]\n",
    "# remove whitespace from marker names\n",
    "protein_map[\"Antigen (CODEX)\"] = protein_map[\"Antigen (CODEX)\"].str.strip()\n",
    "protein_map[\"Gene\"] = protein_map[\"Gene\"].str.strip()"
   ]
  },
  {
   "cell_type": "code",
   "execution_count": null,
   "id": "410dcdef-bac6-479d-9e22-be41a488bc94",
   "metadata": {},
   "outputs": [],
   "source": [
    "df = pd.read_csv(\"HCC_nojunk.csv\")"
   ]
  },
  {
   "cell_type": "code",
   "execution_count": null,
   "id": "b849d739-b60b-4d73-baeb-e99ecd8ace93",
   "metadata": {},
   "outputs": [],
   "source": [
    "df.head()"
   ]
  },
  {
   "cell_type": "code",
   "execution_count": null,
   "id": "a26fa425-83a0-4b07-b213-212a514f9cc0",
   "metadata": {},
   "outputs": [],
   "source": [
    "df_cd8 = df[df[\"Class\"] == \"CD8 T cells\"]"
   ]
  },
  {
   "cell_type": "code",
   "execution_count": null,
   "id": "060d6623-edf3-4ce8-9e0a-142d4ac6800d",
   "metadata": {},
   "outputs": [],
   "source": [
    "ax = sns.scatterplot(data=df_cd8, x=\"lumap1\", y=\"lumap2\", hue=\"Class0\")\n",
    "sns.move_legend(ax, \"upper left\", bbox_to_anchor=(1, 1))"
   ]
  },
  {
   "cell_type": "code",
   "execution_count": null,
   "id": "7c553380-a3fb-41c5-84c1-fce3646d61c0",
   "metadata": {},
   "outputs": [],
   "source": [
    "ax = sns.scatterplot(data=df_cd8, x=\"lumap1\", y=\"lumap2\", hue=\"Tissue\")\n",
    "sns.move_legend(ax, \"upper left\", bbox_to_anchor=(1, 1))"
   ]
  },
  {
   "cell_type": "code",
   "execution_count": null,
   "id": "c9223d66-d28d-415a-a749-0a960267eb71",
   "metadata": {},
   "outputs": [],
   "source": [
    "ax = sns.scatterplot(data=df_cd8, x=\"lumap1\", y=\"lumap2\", hue=\"Patient\", s=10)\n",
    "sns.move_legend(ax, \"upper left\", bbox_to_anchor=(1, 1))"
   ]
  },
  {
   "cell_type": "code",
   "execution_count": null,
   "id": "4a4271e7-e4d0-4c03-9e99-5b5e248677f8",
   "metadata": {
    "scrolled": true
   },
   "outputs": [],
   "source": [
    "count_df_ = (\n",
    "    df_cd8.value_counts([\"Tissue\", \"Class0\"])\n",
    "    .reset_index()\n",
    "    .pivot(index=\"Tissue\", columns=\"Class0\", values=\"count\")\n",
    ").fillna(0)\n",
    "count_df_.plot.barh(stacked=True)\n",
    "plt.legend(bbox_to_anchor=(1.75, 0), loc=\"lower right\")\n",
    "plt.show()\n",
    "\n",
    "count_df__norm = count_df_.div(count_df_.sum(axis=1), axis=0)\n",
    "count_df__norm = count_df_.div(count_df_.sum(axis=1), axis=0)\n",
    "count_df__norm.plot.barh(stacked=True)\n",
    "plt.legend(bbox_to_anchor=(1.75, 0), loc=\"lower right\")\n",
    "plt.show()"
   ]
  },
  {
   "cell_type": "code",
   "execution_count": null,
   "id": "aeed4e25-8f35-4c65-b7ac-a8eed456d814",
   "metadata": {},
   "outputs": [],
   "source": [
    "df_cd8[\"Class0\"].unique()"
   ]
  },
  {
   "cell_type": "code",
   "execution_count": null,
   "id": "7bffee02-23b9-4f5f-a5de-80fb2cdd4bb5",
   "metadata": {},
   "outputs": [],
   "source": [
    "df_cd8_actual = df_cd8[df_cd8[\"Class0\"] != \"T cells CD57\"]"
   ]
  },
  {
   "cell_type": "code",
   "execution_count": null,
   "id": "4b349bf0-3e87-4734-839a-08b0f67d524c",
   "metadata": {},
   "outputs": [],
   "source": [
    "df_cd8_actual.shape"
   ]
  },
  {
   "cell_type": "code",
   "execution_count": null,
   "id": "6f36c199-0890-4636-9988-290ae1279a4d",
   "metadata": {},
   "outputs": [],
   "source": [
    "df_cd8_actual_actual = df[\n",
    "    (df[\"Class0\"] == \"T cells CD8 PD-1low\")\n",
    "    | (df[\"Class0\"] == \"T cells CD8 PD-L1+\")\n",
    "    | (df[\"Class0\"] == \"T cells CD8 PD-1high\")\n",
    "]\n",
    "df_cd8_actual_actual.shape"
   ]
  },
  {
   "cell_type": "code",
   "execution_count": null,
   "id": "b1b2c3d6-ba4c-4666-a04c-4ca9ce86cc46",
   "metadata": {},
   "outputs": [],
   "source": [
    "df_cd8_actual.to_csv(\"HCC_nojunk_CD8_only.csv\")"
   ]
  },
  {
   "cell_type": "code",
   "execution_count": null,
   "id": "f19779f8-1621-4bf6-94bb-925b4e008be6",
   "metadata": {},
   "outputs": [],
   "source": [
    "# df_cd8_actual = pd.read_csv(\"HCC_nojunk_CD8_only.csv\")\n",
    "\n",
    "obs_columns = [\n",
    "    \"Unnamed: 0\",\n",
    "    \"X\",\n",
    "    \"index\",\n",
    "    \"Object.Id\",\n",
    "    \"XMin\",\n",
    "    \"XMax\",\n",
    "    \"YMin\",\n",
    "    \"YMax\",\n",
    "    \"Tissue\",\n",
    "    \"Patient\",\n",
    "    \"Celltype\",\n",
    "    \"Class\",\n",
    "    \"Class0\",\n",
    "]\n",
    "\n",
    "marker_columns = [\n",
    "    \"CD56.Cytoplasm.Intensity\",\n",
    "    \"CD161.Cytoplasm.Intensity\",\n",
    "    \"TCRValpha.Cytoplasm.Intensity\",\n",
    "    \"CD39.Cytoplasm.Intensity\",\n",
    "    \"CD25.Cytoplasm.Intensity\",\n",
    "    \"CD57.Cytoplasm.Intensity\",\n",
    "    \"CD40.Cytoplasm.Intensity\",\n",
    "    \"ICOS.Cytoplasm.Intensity\",\n",
    "    \"CD3.Cytoplasm.Intensity\",\n",
    "    \"CD62L.Cytoplasm.Intensity\",\n",
    "    \"LYVE.1.Cytoplasm.Intensity\",\n",
    "    \"CD45RO.Cytoplasm.Intensity\",\n",
    "    \"IL18Ra.Cytoplasm.Intensity\",\n",
    "    \"PD.L1.Cytoplasm.Intensity\",\n",
    "    \"CD45.Cytoplasm.Intensity\",\n",
    "    \"CD34.Cytoplasm.Intensity\",\n",
    "    \"CD163.Cytoplasm.Intensity\",\n",
    "    \"Ki67.Nucleus.Intensity\",\n",
    "    \"CD19.Cytoplasm.Intensity\",\n",
    "    \"CD38.Cytoplasm.Intensity\",\n",
    "    \"CD279.Cytoplasm.Intensity\",\n",
    "    \"CD11c.Cytoplasm.Intensity\",\n",
    "    \"CD8.Cytoplasm.Intensity\",\n",
    "    \"CD11b.Cytoplasm.Intensity\",\n",
    "    \"CD16.Cytoplasm.Intensity\",\n",
    "    \"FoxP3.Nucleus.Intensity\",\n",
    "    \"CD69.Cytoplasm.Intensity\",\n",
    "    \"CD15.Cytoplasm.Intensity\",\n",
    "    \"HNFalpha.Nucleus.Intensity\",\n",
    "    \"pancytokeratin.Cytoplasm.Intensity\",\n",
    "    \"HLADR.Cytoplasm.Intensity\",\n",
    "    \"CD45RA.Cytoplasm.Intensity\",\n",
    "    \"aSMA.Cytoplasm.Intensity\",\n",
    "    \"CD4.Cytoplasm.Intensity\",\n",
    "    \"CD66b.Cytoplasm.Intensity\",\n",
    "    \"CD68.Cytoplasm.Intensity\",\n",
    "    \"EPCAM.Cytoplasm.Intensity\",\n",
    "]\n",
    "\n",
    "markers = []\n",
    "for column in marker_columns:\n",
    "    if \"Intensity\" in column:\n",
    "        markers.append(\"-\".join(column.split(\".\")[:-2]))\n",
    "markers\n",
    "\n",
    "\n",
    "X = df_cd8_actual.loc[:, marker_columns].values\n",
    "adata = anndata.AnnData(X=X, obs=df_cd8_actual.loc[:, obs_columns])\n",
    "adata.obsm"
   ]
  },
  {
   "cell_type": "code",
   "execution_count": null,
   "id": "bd24ad9a-0a06-4fb2-bd50-96fe0a9e15be",
   "metadata": {},
   "outputs": [],
   "source": [
    "scp.pp.pca(adata, use_highly_variable=False)\n",
    "\n",
    "scp.pp.neighbors(adata, n_neighbors=30)"
   ]
  },
  {
   "cell_type": "code",
   "execution_count": null,
   "id": "bb504f13-0c15-44d7-bc54-8d1494953b8c",
   "metadata": {},
   "outputs": [],
   "source": [
    "scp.tl.umap(adata)"
   ]
  },
  {
   "cell_type": "code",
   "execution_count": null,
   "id": "9e8bcc6d-49c5-47ca-9306-06e2680f8dcb",
   "metadata": {},
   "outputs": [],
   "source": [
    "scp.pl.umap(adata, color=[\"Tissue\", \"Patient\", \"Class0\"])"
   ]
  },
  {
   "cell_type": "code",
   "execution_count": null,
   "id": "4058f913-63c1-41d3-839c-5f33b1372c32",
   "metadata": {},
   "outputs": [],
   "source": [
    "scp.tl.leiden(adata, resolution=1)"
   ]
  },
  {
   "cell_type": "code",
   "execution_count": null,
   "id": "218106dd-476d-459b-8335-97b488a7ac02",
   "metadata": {},
   "outputs": [],
   "source": [
    "scp.pl.umap(adata, color=[\"Tissue\", \"Patient\", \"Class0\", \"leiden\"])"
   ]
  },
  {
   "cell_type": "code",
   "execution_count": null,
   "id": "dff52a99-ea6b-4daf-a98e-01de81f50d14",
   "metadata": {},
   "outputs": [],
   "source": [
    "mean_expressions = []\n",
    "clusters = []\n",
    "for leiden_cluster in adata.obs[\"leiden\"].unique():\n",
    "    cells = adata[adata.obs[\"leiden\"] == leiden_cluster]\n",
    "    print(leiden_cluster, \":\", cells.shape[0])\n",
    "    mean_expressions.append(cells.X.mean(axis=0))\n",
    "    clusters.append(leiden_cluster)\n",
    "mean_expressions = np.array(mean_expressions)\n",
    "\n",
    "plt.figure(figsize=(12, 8))\n",
    "sns.heatmap(\n",
    "    mean_expressions.T,\n",
    "    xticklabels=clusters,\n",
    "    yticklabels=markers,\n",
    "    linewidth=0.1,\n",
    "    linecolor=\"k\",\n",
    ")"
   ]
  },
  {
   "cell_type": "code",
   "execution_count": null,
   "id": "cf75cf20-ae5b-4c90-8045-8d5bbee15ec3",
   "metadata": {},
   "outputs": [],
   "source": [
    "protein_map[\"Antigen (CODEX)\"].values"
   ]
  },
  {
   "cell_type": "code",
   "execution_count": null,
   "id": "83a32384-9faf-475a-b483-5a51540ec86e",
   "metadata": {},
   "outputs": [],
   "source": [
    "adata.obs[\"XMean\"] = (adata.obs[\"XMax\"] + adata.obs[\"XMin\"]) / 2\n",
    "adata.obs[\"YMean\"] = (adata.obs[\"YMax\"] + adata.obs[\"YMin\"]) / 2\n",
    "adata.obsm[\"X_spatial\"] = np.stack(\n",
    "    [adata.obs[\"XMean\"].values, adata.obs[\"YMean\"].values], axis=1\n",
    ")"
   ]
  },
  {
   "cell_type": "code",
   "execution_count": null,
   "id": "82f1d0f8-9a3c-4b4b-a359-af13257e9fe7",
   "metadata": {
    "scrolled": true
   },
   "outputs": [],
   "source": [
    "for patient in adata.obs[\"Patient\"].unique():\n",
    "    scp.pl.embedding(\n",
    "        adata[adata.obs[\"Patient\"] == patient],\n",
    "        basis=\"X_spatial\",\n",
    "        color=[\"Tissue\", \"Class0\"],\n",
    "        size=10,\n",
    "        ncols=2,\n",
    "    )"
   ]
  },
  {
   "cell_type": "code",
   "execution_count": null,
   "id": "9d100106-d5aa-4443-b519-6a8b9ba230a8",
   "metadata": {},
   "outputs": [],
   "source": [
    "adata.write(\"CODEX_cd8.h5ad\")"
   ]
  }
 ],
 "metadata": {
  "kernelspec": {
   "display_name": "Python 3 (ipykernel)",
   "language": "python",
   "name": "python3"
  },
  "language_info": {
   "codemirror_mode": {
    "name": "ipython",
    "version": 3
   },
   "file_extension": ".py",
   "mimetype": "text/x-python",
   "name": "python",
   "nbconvert_exporter": "python",
   "pygments_lexer": "ipython3",
   "version": "3.10.0"
  }
 },
 "nbformat": 4,
 "nbformat_minor": 5
}
